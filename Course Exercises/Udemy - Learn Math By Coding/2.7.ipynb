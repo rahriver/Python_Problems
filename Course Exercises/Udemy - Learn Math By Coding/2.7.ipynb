{
 "cells": [
  {
   "cell_type": "code",
   "execution_count": 29,
   "id": "cb5929e3",
   "metadata": {},
   "outputs": [
    {
     "name": "stdout",
     "output_type": "stream",
     "text": [
      "1000 to the power of 0 is 1\n",
      "1000 to the power of 1 is 1000\n",
      "1000 to the power of 2 is 1000000\n",
      "1000 to the power of 3 is 1000000000\n",
      "1000 to the power of 4 is 1000000000000\n",
      "1000 to the power of 5 is 1000000000000000\n",
      "1000 to the power of 6 is 1000000000000000000\n",
      "1000 to the power of 7 is 1000000000000000000000\n",
      "1000 to the power of 8 is 1000000000000000000000000\n",
      "1000 to the power of 9 is 1000000000000000000000000000\n"
     ]
    }
   ],
   "source": [
    "for n in range(0,10):\n",
    "    base = 1000\n",
    "    p = base**n\n",
    "    print(base , 'to the power of',n,'is',p)\n",
    "    "
   ]
  }
 ],
 "metadata": {
  "kernelspec": {
   "display_name": "Python 3",
   "language": "python",
   "name": "python3"
  },
  "language_info": {
   "codemirror_mode": {
    "name": "ipython",
    "version": 3
   },
   "file_extension": ".py",
   "mimetype": "text/x-python",
   "name": "python",
   "nbconvert_exporter": "python",
   "pygments_lexer": "ipython3",
   "version": "3.8.8"
  }
 },
 "nbformat": 4,
 "nbformat_minor": 5
}
