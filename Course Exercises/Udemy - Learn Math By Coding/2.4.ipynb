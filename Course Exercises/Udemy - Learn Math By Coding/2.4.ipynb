{
 "cells": [
  {
   "cell_type": "code",
   "execution_count": 78,
   "id": "e4187b21",
   "metadata": {},
   "outputs": [
    {
     "data": {
      "text/latex": [
       "$\\displaystyle 7 + -2 = 5$"
      ],
      "text/plain": [
       "<IPython.core.display.Math object>"
      ]
     },
     "metadata": {},
     "output_type": "display_data"
    }
   ],
   "source": [
    "from IPython.display import display, Math\n",
    "display(Math(str(x) + ' + ' + str(y) + ' = ' + str(x+y)))"
   ]
  },
  {
   "cell_type": "code",
   "execution_count": 100,
   "id": "9e125ef6",
   "metadata": {},
   "outputs": [
    {
     "data": {
      "text/latex": [
       "$\\displaystyle 3x(4+y) = 42$"
      ],
      "text/plain": [
       "<IPython.core.display.Math object>"
      ]
     },
     "metadata": {},
     "output_type": "display_data"
    }
   ],
   "source": [
    "x=7\n",
    "y=-2\n",
    "z=5\n",
    "display(Math( '3x(4+y) = %g' %(3*x*(4+y))))"
   ]
  },
  {
   "cell_type": "code",
   "execution_count": 109,
   "id": "8badfc68",
   "metadata": {},
   "outputs": [
    {
     "data": {
      "text/latex": [
       "$\\displaystyle 3 \\prec 7 (4 + -2) = 42$"
      ],
      "text/plain": [
       "<IPython.core.display.Math object>"
      ]
     },
     "metadata": {},
     "output_type": "display_data"
    }
   ],
   "source": [
    "display(Math( '%g \\prec %g (%g + %g) = %g' %(3,7,4,-2,3*x*(4+y))))"
   ]
  },
  {
   "cell_type": "code",
   "execution_count": 103,
   "id": "53614b1f",
   "metadata": {},
   "outputs": [
    {
     "data": {
      "text/latex": [
       "$\\displaystyle --2 - \\frac {10}{5} = 0$"
      ],
      "text/plain": [
       "<IPython.core.display.Math object>"
      ]
     },
     "metadata": {},
     "output_type": "display_data"
    }
   ],
   "source": [
    "display(Math( '-%g - \\\\frac {%g}{%g} = %g' %(y,x+3,z,-y-(x+3)/z)))"
   ]
  },
  {
   "cell_type": "code",
   "execution_count": 108,
   "id": "7716dd16",
   "metadata": {},
   "outputs": [
    {
     "data": {
      "text/latex": [
       "$\\displaystyle -y - \\frac {x+3}{z} = 0$"
      ],
      "text/plain": [
       "<IPython.core.display.Math object>"
      ]
     },
     "metadata": {},
     "output_type": "display_data"
    }
   ],
   "source": [
    "display(Math( '-y - \\\\frac {x+3}{z} = %g' %(-y-(x+3)/z)))"
   ]
  }
 ],
 "metadata": {
  "kernelspec": {
   "display_name": "Python 3 (ipykernel)",
   "language": "python",
   "name": "python3"
  },
  "language_info": {
   "codemirror_mode": {
    "name": "ipython",
    "version": 3
   },
   "file_extension": ".py",
   "mimetype": "text/x-python",
   "name": "python",
   "nbconvert_exporter": "python",
   "pygments_lexer": "ipython3",
   "version": "3.10.1"
  }
 },
 "nbformat": 4,
 "nbformat_minor": 5
}
