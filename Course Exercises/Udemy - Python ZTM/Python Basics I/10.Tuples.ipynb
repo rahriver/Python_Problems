{
 "cells": [
  {
   "cell_type": "code",
   "execution_count": null,
   "id": "f2052da2",
   "metadata": {},
   "outputs": [],
   "source": [
    "#tuple --> immutable list\n",
    "\n",
    "my_tuple = (1,2,3,4,5)\n",
    "\n",
    ".count --> a method for tuples\n",
    "\n"
   ]
  }
 ],
 "metadata": {
  "kernelspec": {
   "display_name": "Python 3",
   "language": "python",
   "name": "python3"
  },
  "language_info": {
   "codemirror_mode": {
    "name": "ipython",
    "version": 3
   },
   "file_extension": ".py",
   "mimetype": "text/x-python",
   "name": "python",
   "nbconvert_exporter": "python",
   "pygments_lexer": "ipython3",
   "version": "3.8.8"
  }
 },
 "nbformat": 4,
 "nbformat_minor": 5
}
