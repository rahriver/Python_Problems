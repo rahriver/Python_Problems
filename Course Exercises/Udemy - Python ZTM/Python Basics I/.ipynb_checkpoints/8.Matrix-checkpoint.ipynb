{
 "cells": [
  {
   "cell_type": "code",
   "execution_count": 4,
   "id": "4ec8baa6",
   "metadata": {},
   "outputs": [
    {
     "name": "stdout",
     "output_type": "stream",
     "text": [
      " 5\n"
     ]
    }
   ],
   "source": [
    "# # # matrix:\n",
    "# # matrix = [[1,0,1] , [0,1,0] , [1,1,1]]\n",
    "\n",
    "# # its used for visual proccessing and displaying\n",
    "\n",
    "# # #accessing --> matrix[0][1] --> 0\n",
    "# #                       I  I\n",
    "# #                       V  V\n",
    "# #                 first    second\n",
    "#                    item    item\n",
    "            \n",
    "#length in matrix:\n",
    "\n",
    "basket = [[1,2] , [1,11,22]]\n",
    "\n",
    "print(f' {len(basket[0]) + len(basket[1])}')\n"
   ]
  }
 ],
 "metadata": {
  "kernelspec": {
   "display_name": "Python 3",
   "language": "python",
   "name": "python3"
  },
  "language_info": {
   "codemirror_mode": {
    "name": "ipython",
    "version": 3
   },
   "file_extension": ".py",
   "mimetype": "text/x-python",
   "name": "python",
   "nbconvert_exporter": "python",
   "pygments_lexer": "ipython3",
   "version": "3.8.8"
  }
 },
 "nbformat": 4,
 "nbformat_minor": 5
}
