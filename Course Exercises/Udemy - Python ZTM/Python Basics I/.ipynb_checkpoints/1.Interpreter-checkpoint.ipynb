{
 "cells": [
  {
   "cell_type": "code",
   "execution_count": null,
   "id": "d7c3c98c",
   "metadata": {},
   "outputs": [],
   "source": [
    "#interpreter = goes line by line and translate\n",
    "#compiler = reads the whole code and then translate\n",
    "#our hello.py file gets interpreted by the interpreter and then the Cpython virtual machine execute the code\n"
   ]
  }
 ],
 "metadata": {
  "kernelspec": {
   "display_name": "Python 3",
   "language": "python",
   "name": "python3"
  },
  "language_info": {
   "codemirror_mode": {
    "name": "ipython",
    "version": 3
   },
   "file_extension": ".py",
   "mimetype": "text/x-python",
   "name": "python",
   "nbconvert_exporter": "python",
   "pygments_lexer": "ipython3",
   "version": "3.8.8"
  }
 },
 "nbformat": 4,
 "nbformat_minor": 5
}
