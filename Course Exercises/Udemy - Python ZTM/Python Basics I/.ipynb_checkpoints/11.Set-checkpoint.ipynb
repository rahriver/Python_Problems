{
 "cells": [
  {
   "cell_type": "code",
   "execution_count": null,
   "id": "c5e39080",
   "metadata": {},
   "outputs": [],
   "source": [
    "#sets --> unordered list of unique objects \n",
    "\n",
    "my_set = {1,2,3,4,5,5}\n",
    "\n",
    "print(my_set) -->  {1,2,3,4,5} --> because it only print the \"UNIQUE OBJECTS\" which is just one 5\n",
    "\n",
    "sets doesnt support indexes\n",
    "so we should grab values from it\n",
    "\n",
    ".len  .copy\n",
    ".in   .clear\n",
    "\n",
    ".difference() in sets:\n",
    "\n",
    "    A-B , B-A\n",
    "    \n",
    "First - Second\n",
    "\n",
    ".discard() --> remove the element\n",
    ".intersection() --> A intersection B --> also we can use '&' instead\n",
    ".difference_update --> .difference tells u the difference but .difference_update, updates ur set.\n",
    ".union --> A U B --> also we can use (my_set | your_set) \n",
    "| : is shift + \\\n",
    "\n",
    ".issubset --> A C B\n",
    ".issuperset --> B C A\n"
   ]
  }
 ],
 "metadata": {
  "kernelspec": {
   "display_name": "Python 3",
   "language": "python",
   "name": "python3"
  },
  "language_info": {
   "codemirror_mode": {
    "name": "ipython",
    "version": 3
   },
   "file_extension": ".py",
   "mimetype": "text/x-python",
   "name": "python",
   "nbconvert_exporter": "python",
   "pygments_lexer": "ipython3",
   "version": "3.8.8"
  }
 },
 "nbformat": 4,
 "nbformat_minor": 5
}
