{
 "cells": [
  {
   "cell_type": "code",
   "execution_count": null,
   "id": "d706ce4b",
   "metadata": {},
   "outputs": [],
   "source": [
    "# #snake_case\n",
    "# #dont overwrite python keywords (like in or for and so on)\n",
    "# #case sensitive\n",
    "# #only letters, numbers and underscores are permitted\n",
    "# #start with lowercase or underscore\n",
    "\n",
    "# #statements: is a line of code that performs an action:\n",
    "# p = value = 150\n",
    "# #expression: is the part of the code that produces a value\n",
    "# value = p/5 = 30\n",
    "\n",
    "#augmented assignment operators\n",
    "some_value = 5\n",
    "some_value += 2 = 7\n",
    "some_value -= 2 = 3\n",
    "some_value *= 2 = 10\n",
    "some_value /= 2 = 2.5\n",
    "\n",
    "#str concatenation\n",
    "\n",
    "'hello' + 'hi'\n",
    "\n",
    "#type conversion\n",
    "\n",
    "a = str(100)\n",
    "b = int(a)\n",
    "c = type(b)\n",
    "print(c) ----> int\n",
    "\n"
   ]
  }
 ],
 "metadata": {
  "kernelspec": {
   "display_name": "Python 3",
   "language": "python",
   "name": "python3"
  },
  "language_info": {
   "codemirror_mode": {
    "name": "ipython",
    "version": 3
   },
   "file_extension": ".py",
   "mimetype": "text/x-python",
   "name": "python",
   "nbconvert_exporter": "python",
   "pygments_lexer": "ipython3",
   "version": "3.8.8"
  }
 },
 "nbformat": 4,
 "nbformat_minor": 5
}
