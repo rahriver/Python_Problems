{
 "cells": [
  {
   "cell_type": "code",
   "execution_count": 10,
   "id": "f5a389d4",
   "metadata": {},
   "outputs": [
    {
     "ename": "SyntaxError",
     "evalue": "invalid syntax (<ipython-input-10-baf164020a59>, line 23)",
     "output_type": "error",
     "traceback": [
      "\u001b[1;36m  File \u001b[1;32m\"<ipython-input-10-baf164020a59>\"\u001b[1;36m, line \u001b[1;32m23\u001b[0m\n\u001b[1;33m    .index('the index of the element that we want' , start , stop)\u001b[0m\n\u001b[1;37m    ^\u001b[0m\n\u001b[1;31mSyntaxError\u001b[0m\u001b[1;31m:\u001b[0m invalid syntax\n"
     ]
    }
   ],
   "source": [
    "# #methods modifies the lists \"IN PLACE\"\n",
    "# u cant assign a method to a variable and then do print !\n",
    "\n",
    "# #adition\n",
    "\n",
    "# .append --> +\n",
    "# .extend --> ([+])\n",
    "# .insert --> u can insert anywhere u want\n",
    "\n",
    "# #subtraction\n",
    "\n",
    "# .pop() --> u tell it the index and it pops the last element of that list and then it shows the poped element\n",
    "# .remove() --> u give it a value not an index\n",
    "# .clear --> clears the whole list \"IN PLACE\"\n",
    "# .index --> when u want to find smth in the list \n",
    "\n",
    "basket = ['a','b','c','d','e']\n",
    "\n",
    "b = basket.index('a', 0 , 4)\n",
    "\n",
    "print(b)\n",
    "\n",
    ".index('the index of the element that we want' , start , stop)\n",
    "\n",
    ".reverse --> reverses the list\n",
    "\n",
    ".join\n",
    "\n",
    "new_sentence = '' .join (['hi', 'my' , 'name', 'is' , 'jojo']) -->  hi my name is jojo\n",
    "\n",
    "#list unpacking\n",
    "\n",
    "a,b,c *other, d = [1,2,3,4,5,6,7,8,9]\n",
    "\n",
    "* : is the seperation operator\n",
    "other : name of the variable\n",
    "    \n",
    "print(a)\n",
    "print(b)\n",
    "print(c)  output ----->  1 , 2 , 3 , [4, 5, 6, 7, 8] , 9\n",
    "print(others)\n",
    "print(d)\n",
    "\n",
    "#in --> finding an int or a string in a list\n",
    "\n",
    "output --> boolean : T,F\n",
    "    \n",
    "#.count --> counts the letters or the numbers in a list.\n",
    "\n",
    "#.sort -->  sort the list\n",
    "#it doesnt return anything it just sorts the list \"IN PLACE\"\n",
    "# u cant print .sort\n",
    "\n",
    "#.sorted --> creates a new copy of the list and then sorts it.\n",
    "\n",
    "basket = ['a','b','c','x','d','d']\n",
    "\n",
    "print(sorted(basket)) --> a,b,c,d,d,,x\n",
    "print(basket) --> a,b,c,x,d,d\n"
   ]
  }
 ],
 "metadata": {
  "kernelspec": {
   "display_name": "Python 3",
   "language": "python",
   "name": "python3"
  },
  "language_info": {
   "codemirror_mode": {
    "name": "ipython",
    "version": 3
   },
   "file_extension": ".py",
   "mimetype": "text/x-python",
   "name": "python",
   "nbconvert_exporter": "python",
   "pygments_lexer": "ipython3",
   "version": "3.8.8"
  }
 },
 "nbformat": 4,
 "nbformat_minor": 5
}
