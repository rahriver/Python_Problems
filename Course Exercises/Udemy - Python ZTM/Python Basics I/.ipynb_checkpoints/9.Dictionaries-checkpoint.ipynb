{
 "cells": [
  {
   "cell_type": "code",
   "execution_count": null,
   "id": "14724459",
   "metadata": {},
   "outputs": [],
   "source": [
    "#dict:\n",
    "\n",
    "#dictionary is an unordered(saves in different places of memory) \"ke_value\" pair\n",
    "\n",
    "dictionary = {\n",
    "    'a' : 1,\n",
    "    'b' : 2,\n",
    "    'c' : 3\n",
    "}\n",
    "\n",
    "print(dictionary) --> {'a' : 1 , 'b' : 2 , 'c' : 3}\n",
    "\n",
    "#a key in a dictionary, should be immutable so it cant be a list, but it can be a number, str, bool , and etc.\n",
    "\n",
    ".get --> it gets smth from our dict\n",
    "if its not there, it returns \"None\"\n",
    "\n",
    "# (user.get('age', 55)) --> means if there's no 'age' in our dict,  then return \"My Value\"\n",
    "\n",
    ".value   .pop    .popitem --> radndomly pops off items\n",
    ".key     .copy\n",
    ".update --> print(user.update({'age' : 55}))\n",
    "            print(user) --> 'age' : 55\n",
    "\n",
    "# if the key (age) doesnt exist, it still adds the key to our dictionary\n",
    "\n",
    "\n"
   ]
  }
 ],
 "metadata": {
  "kernelspec": {
   "display_name": "Python 3",
   "language": "python",
   "name": "python3"
  },
  "language_info": {
   "codemirror_mode": {
    "name": "ipython",
    "version": 3
   },
   "file_extension": ".py",
   "mimetype": "text/x-python",
   "name": "python",
   "nbconvert_exporter": "python",
   "pygments_lexer": "ipython3",
   "version": "3.8.8"
  }
 },
 "nbformat": 4,
 "nbformat_minor": 5
}
