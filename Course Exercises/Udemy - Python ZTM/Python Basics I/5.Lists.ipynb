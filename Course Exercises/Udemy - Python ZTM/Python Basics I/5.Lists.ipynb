{
 "cells": [
  {
   "cell_type": "code",
   "execution_count": null,
   "id": "96f0568f",
   "metadata": {},
   "outputs": [],
   "source": [
    "#lists\n",
    "list : [1,2,'a',True,2.5]\n",
    "\n",
    "#lists are mutable\n",
    "\n",
    "ama = ['apple', 'tomato']\n",
    "amE = [0] = 'laptop'\n",
    "\n",
    "print(ama) --> ['laptop','tomato']\n",
    "\n",
    "#list slicing:\n",
    "everytime we do lists slicing, we create a new copy of that list.\n",
    "copying a list --> newone = original[:]\n"
   ]
  }
 ],
 "metadata": {
  "kernelspec": {
   "display_name": "Python 3",
   "language": "python",
   "name": "python3"
  },
  "language_info": {
   "codemirror_mode": {
    "name": "ipython",
    "version": 3
   },
   "file_extension": ".py",
   "mimetype": "text/x-python",
   "name": "python",
   "nbconvert_exporter": "python",
   "pygments_lexer": "ipython3",
   "version": "3.8.8"
  }
 },
 "nbformat": 4,
 "nbformat_minor": 5
}
