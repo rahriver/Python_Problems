{
 "cells": [
  {
   "cell_type": "code",
   "execution_count": null,
   "id": "e3762e3c",
   "metadata": {},
   "outputs": [],
   "source": [
    "# #immuatability\n",
    "# strings are immutable.\n",
    "# we cant change them, but we can create or destroy them.\n",
    "\n",
    "# #methods for strings\n",
    "\n",
    "# .format\n",
    "# .upper\n",
    "# .lower\n",
    "# .capitalize\n",
    "# etc.\n"
   ]
  }
 ],
 "metadata": {
  "kernelspec": {
   "display_name": "Python 3",
   "language": "python",
   "name": "python3"
  },
  "language_info": {
   "codemirror_mode": {
    "name": "ipython",
    "version": 3
   },
   "file_extension": ".py",
   "mimetype": "text/x-python",
   "name": "python",
   "nbconvert_exporter": "python",
   "pygments_lexer": "ipython3",
   "version": "3.8.8"
  }
 },
 "nbformat": 4,
 "nbformat_minor": 5
}
