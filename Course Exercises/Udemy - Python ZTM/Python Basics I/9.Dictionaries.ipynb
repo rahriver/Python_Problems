{
 "cells": [
  {
   "cell_type": "code",
   "execution_count": 1,
   "id": "14724459",
   "metadata": {},
   "outputs": [
    {
     "ename": "SyntaxError",
     "evalue": "invalid syntax (<ipython-input-1-e695c54d0272>, line 11)",
     "output_type": "error",
     "traceback": [
      "\u001b[1;36m  File \u001b[1;32m\"<ipython-input-1-e695c54d0272>\"\u001b[1;36m, line \u001b[1;32m11\u001b[0m\n\u001b[1;33m    print(dictionary) --> {'a' : 1 , 'b' : 2 , 'c' : 3}\u001b[0m\n\u001b[1;37m                       ^\u001b[0m\n\u001b[1;31mSyntaxError\u001b[0m\u001b[1;31m:\u001b[0m invalid syntax\n"
     ]
    }
   ],
   "source": [
    "#dict:\n",
    "\n",
    "#dictionary is an unordered(saves in different places of memory) \"ke_value\" pair\n",
    "\n",
    "dictionary = {\n",
    "    'a' : 1,\n",
    "    'b' : 2,\n",
    "    'c' : 3\n",
    "}\n",
    "\n",
    "print(dictionary) --> {'a' : 1 , 'b' : 2 , 'c' : 3}\n",
    "\n",
    "#a key in a dictionary, should be immutable so it cant be a list, but it can be a number, str, bool , and etc.\n",
    "\n",
    ".get --> it gets smth from our dict\n",
    "if its not there, it returns \"None\"\n",
    "\n",
    "# (user.get('age', 55)) --> means if there's no 'age' in our dict,  then return \"My Value\"\n",
    "\n",
    ".value   .pop    .popitem --> radndomly pops off items\n",
    ".key     .copy\n",
    ".update --> print(user.update({'age' : 55}))\n",
    "            print(user) --> 'age' : 55\n",
    "\n",
    "# if the key (age) doesnt exist, it still adds the key to our dictionary\n",
    "\n",
    "\n"
   ]
  },
  {
   "cell_type": "code",
   "execution_count": 4,
   "id": "ca46d810",
   "metadata": {
    "scrolled": true
   },
   "outputs": [
    {
     "ename": "AttributeError",
     "evalue": "'dict' object has no attribute 'value'",
     "output_type": "error",
     "traceback": [
      "\u001b[1;31m---------------------------------------------------------------------------\u001b[0m",
      "\u001b[1;31mAttributeError\u001b[0m                            Traceback (most recent call last)",
      "\u001b[1;32m<ipython-input-4-cbd84067f89a>\u001b[0m in \u001b[0;36m<module>\u001b[1;34m\u001b[0m\n\u001b[0;32m      4\u001b[0m     \u001b[1;34m'c'\u001b[0m \u001b[1;33m:\u001b[0m \u001b[1;36m3\u001b[0m\u001b[1;33m\u001b[0m\u001b[1;33m\u001b[0m\u001b[0m\n\u001b[0;32m      5\u001b[0m }\n\u001b[1;32m----> 6\u001b[1;33m \u001b[0mp\u001b[0m \u001b[1;33m=\u001b[0m \u001b[0mdictionary\u001b[0m\u001b[1;33m.\u001b[0m\u001b[0mvalue\u001b[0m\u001b[1;33m(\u001b[0m\u001b[1;36m1\u001b[0m\u001b[1;33m)\u001b[0m\u001b[1;33m\u001b[0m\u001b[1;33m\u001b[0m\u001b[0m\n\u001b[0m\u001b[0;32m      7\u001b[0m \u001b[0mprint\u001b[0m\u001b[1;33m(\u001b[0m\u001b[0mp\u001b[0m\u001b[1;33m)\u001b[0m\u001b[1;33m\u001b[0m\u001b[1;33m\u001b[0m\u001b[0m\n",
      "\u001b[1;31mAttributeError\u001b[0m: 'dict' object has no attribute 'value'"
     ]
    }
   ],
   "source": [
    "dictionary = {\n",
    "    'a' : 1,\n",
    "    'b' : 2,\n",
    "    'c' : 3\n",
    "}\n",
    "p = dictionary.value(1)\n",
    "print(p)"
   ]
  }
 ],
 "metadata": {
  "kernelspec": {
   "display_name": "Python 3",
   "language": "python",
   "name": "python3"
  },
  "language_info": {
   "codemirror_mode": {
    "name": "ipython",
    "version": 3
   },
   "file_extension": ".py",
   "mimetype": "text/x-python",
   "name": "python",
   "nbconvert_exporter": "python",
   "pygments_lexer": "ipython3",
   "version": "3.8.8"
  }
 },
 "nbformat": 4,
 "nbformat_minor": 5
}
