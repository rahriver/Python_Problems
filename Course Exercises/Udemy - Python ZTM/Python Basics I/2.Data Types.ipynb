{
 "cells": [
  {
   "cell_type": "code",
   "execution_count": null,
   "id": "fa3be41b",
   "metadata": {},
   "outputs": [],
   "source": [
    "# # # #Fundamental data types:\n",
    "# # # 1.set\n",
    "# # # 2.int\n",
    "# # # 3.float\n",
    "# # # 4.str\n",
    "# # # 5.bool\n",
    "# # # 6.dict\n",
    "# # # 7.tuple\n",
    "# # # 8.list\n",
    "# # # 9.complex\n",
    "\n",
    "# # #classes : classes are custom data types\n",
    "# # #specialized : special packages/modules\n",
    "\n",
    "# # #functions/actions\n",
    "\n",
    "# # 1.print()\n",
    "# # 2.type()\n",
    "# # 3.round()\n",
    "# # 4.bin()\n",
    "# # 5.''' --> for long strings \n",
    "# # 6.input\n",
    "# 7.str()\n",
    "# 8.int()\n",
    "# 9.len()\n",
    "# 10.bool()\n",
    "# 11.in\n",
    "# 12.for\n",
    "# 13.and\n",
    "# 14.enumerate\n",
    "# etc.\n",
    "\n",
    "# % --> modulo : remainder of a division\n",
    "# // --> first, divides then it gets rounded down\n",
    "# ** --> power of"
   ]
  }
 ],
 "metadata": {
  "kernelspec": {
   "display_name": "Python 3",
   "language": "python",
   "name": "python3"
  },
  "language_info": {
   "codemirror_mode": {
    "name": "ipython",
    "version": 3
   },
   "file_extension": ".py",
   "mimetype": "text/x-python",
   "name": "python",
   "nbconvert_exporter": "python",
   "pygments_lexer": "ipython3",
   "version": "3.8.8"
  }
 },
 "nbformat": 4,
 "nbformat_minor": 5
}
