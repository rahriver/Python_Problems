{
 "cells": [
  {
   "cell_type": "code",
   "execution_count": null,
   "id": "19051975",
   "metadata": {},
   "outputs": [],
   "source": [
    "sometime we want to have a word combination like this : you're , i'm , what's etc.\n",
    "so we should do this:\n",
    "\n",
    "\"its's sunny today\"\n",
    "\"it\\s\\sunny\\\"today\"\\\"\"\n",
    "\n",
    "\\ --> tells python that everything that comes after the \"\\\" , is a string\n",
    "\n",
    "\\t --> tab\n",
    "\\n --> new line\n",
    "\n",
    "formatted strings: no need to convert data types to each other\n",
    "\n",
    "name = 'johnny'\n",
    "age = 55\n",
    "\n",
    "print(f' hi {name}. You are {age} years old!' )\n",
    "\n",
    "string indexes:\n",
    "selfish = 'me me me'\n",
    "           12345678\n",
    "[start:stop:stepover]\n",
    "default : 0 : 0 : 1\n",
    "\n",
    "[::1] --> me me me\n",
    "[::-1] --> em em em"
   ]
  }
 ],
 "metadata": {
  "kernelspec": {
   "display_name": "Python 3 (ipykernel)",
   "language": "python",
   "name": "python3"
  },
  "language_info": {
   "codemirror_mode": {
    "name": "ipython",
    "version": 3
   },
   "file_extension": ".py",
   "mimetype": "text/x-python",
   "name": "python",
   "nbconvert_exporter": "python",
   "pygments_lexer": "ipython3",
   "version": "3.10.1"
  }
 },
 "nbformat": 4,
 "nbformat_minor": 5
}
