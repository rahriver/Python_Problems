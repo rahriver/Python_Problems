{
 "cells": [
  {
   "cell_type": "code",
   "execution_count": 15,
   "id": "5816bbbb",
   "metadata": {},
   "outputs": [
    {
     "name": "stdout",
     "output_type": "stream",
     "text": [
      "4\n",
      "6\n",
      "10\n",
      "9\n",
      "8\n",
      "7\n",
      "6\n",
      "5\n",
      "4\n",
      "3\n",
      "2\n",
      "1\n",
      "[0, 1, 2, 3, 4, 5, 6, 7, 8, 9]\n",
      "[0, 1, 2, 3, 4, 5, 6, 7, 8, 9]\n"
     ]
    }
   ],
   "source": [
    "for _ in range(4):\n",
    "    print(_)\n",
    "\n",
    "in range,we have (start, stop, stepover)\n",
    "\n",
    "for _ in range(4, 8, 2):\n",
    "    print(_)\n",
    "    \n",
    "u see in here we get nothing because range is not like list, it has an order and a stepover\n",
    "\n",
    "for _ in range(10, 0):\n",
    "    print(_)\n",
    "    \n",
    "so what we should do is, we reverse the stepover\n",
    "\n",
    "for _ in range(10, 0 ,-1):\n",
    "    print(_)\n",
    "\n",
    "we also can make a list out of a range\n",
    "the first \"range(2)\" part means that we are looping 2 times in a 0 to 10 range\n",
    "\n",
    "for _ in range(2):\n",
    "    print(list(range(10)))"
   ]
  }
 ],
 "metadata": {
  "kernelspec": {
   "display_name": "Python 3",
   "language": "python",
   "name": "python3"
  },
  "language_info": {
   "codemirror_mode": {
    "name": "ipython",
    "version": 3
   },
   "file_extension": ".py",
   "mimetype": "text/x-python",
   "name": "python",
   "nbconvert_exporter": "python",
   "pygments_lexer": "ipython3",
   "version": "3.8.8"
  }
 },
 "nbformat": 4,
 "nbformat_minor": 5
}
