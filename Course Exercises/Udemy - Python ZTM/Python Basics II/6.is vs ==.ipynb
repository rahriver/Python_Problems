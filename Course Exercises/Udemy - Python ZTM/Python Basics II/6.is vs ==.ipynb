{
 "cells": [
  {
   "cell_type": "code",
   "execution_count": 5,
   "id": "e0a9dab8",
   "metadata": {},
   "outputs": [
    {
     "name": "stdout",
     "output_type": "stream",
     "text": [
      "True\n",
      "False\n",
      "False\n",
      "True\n",
      "True\n",
      "False\n",
      "False\n",
      "False\n",
      "False\n",
      "False\n"
     ]
    },
    {
     "name": "stderr",
     "output_type": "stream",
     "text": [
      "<>:6: SyntaxWarning: \"is\" with a literal. Did you mean \"==\"?\n",
      "<>:7: SyntaxWarning: \"is\" with a literal. Did you mean \"==\"?\n",
      "<>:8: SyntaxWarning: \"is\" with a literal. Did you mean \"==\"?\n",
      "<>:9: SyntaxWarning: \"is\" with a literal. Did you mean \"==\"?\n",
      "<>:6: SyntaxWarning: \"is\" with a literal. Did you mean \"==\"?\n",
      "<>:7: SyntaxWarning: \"is\" with a literal. Did you mean \"==\"?\n",
      "<>:8: SyntaxWarning: \"is\" with a literal. Did you mean \"==\"?\n",
      "<>:9: SyntaxWarning: \"is\" with a literal. Did you mean \"==\"?\n",
      "<ipython-input-5-b8eabd270e4a>:6: SyntaxWarning: \"is\" with a literal. Did you mean \"==\"?\n",
      "  print(True is 1)\n",
      "<ipython-input-5-b8eabd270e4a>:7: SyntaxWarning: \"is\" with a literal. Did you mean \"==\"?\n",
      "  print('1' is 1)\n",
      "<ipython-input-5-b8eabd270e4a>:8: SyntaxWarning: \"is\" with a literal. Did you mean \"==\"?\n",
      "  print([] is 1)\n",
      "<ipython-input-5-b8eabd270e4a>:9: SyntaxWarning: \"is\" with a literal. Did you mean \"==\"?\n",
      "  print(10 is 10.0)\n"
     ]
    }
   ],
   "source": [
    "# In here, we have the comparison of values. True gets converted into an integer and then gets compared\n",
    "\n",
    "print(True == 1)\n",
    "print('1' == 1)\n",
    "print([] == 1)\n",
    "print(10 == 10.0)\n",
    "print([1,2,3] == [1,2,3])\n",
    "\n",
    "# But in here, we have the comparison of the memory locations. True is only True, not '1'.\n",
    "\n",
    "print(True is 1)\n",
    "print('1' is 1)\n",
    "print([] is 1)\n",
    "print(10 is 10.0)\n",
    "print([1,2,3] is [1,2,3]) # When we create a list, its gets stored in a new and different place in\n",
    "# memory but numbers and strings are there and doesnt get created like lists. \n",
    "#Every data structures are like this, dict,tuples,set"
   ]
  }
 ],
 "metadata": {
  "kernelspec": {
   "display_name": "Python 3",
   "language": "python",
   "name": "python3"
  },
  "language_info": {
   "codemirror_mode": {
    "name": "ipython",
    "version": 3
   },
   "file_extension": ".py",
   "mimetype": "text/x-python",
   "name": "python",
   "nbconvert_exporter": "python",
   "pygments_lexer": "ipython3",
   "version": "3.8.8"
  }
 },
 "nbformat": 4,
 "nbformat_minor": 5
}
