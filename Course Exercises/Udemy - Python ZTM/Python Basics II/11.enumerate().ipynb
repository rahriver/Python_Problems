{
 "cells": [
  {
   "cell_type": "code",
   "execution_count": 16,
   "id": "99edfe5f",
   "metadata": {},
   "outputs": [
    {
     "name": "stdout",
     "output_type": "stream",
     "text": [
      "55\n"
     ]
    }
   ],
   "source": [
    "enumerate means: mention (a number of things) one by one.\n",
    "\n",
    "for i in enumerate('Helloooo'):\n",
    "    print(i)\n",
    "    \n",
    "as u can see, this is an index counter \n",
    "we use this when we want the index counter of the item that we are looping on\n",
    "\n",
    "EXERCISE\n",
    "\n"
   ]
  }
 ],
 "metadata": {
  "kernelspec": {
   "display_name": "Python 3",
   "language": "python",
   "name": "python3"
  },
  "language_info": {
   "codemirror_mode": {
    "name": "ipython",
    "version": 3
   },
   "file_extension": ".py",
   "mimetype": "text/x-python",
   "name": "python",
   "nbconvert_exporter": "python",
   "pygments_lexer": "ipython3",
   "version": "3.8.8"
  }
 },
 "nbformat": 4,
 "nbformat_minor": 5
}
