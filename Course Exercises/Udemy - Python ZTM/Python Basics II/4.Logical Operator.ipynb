{
 "cells": [
  {
   "cell_type": "code",
   "execution_count": 2,
   "id": "03a73ec0",
   "metadata": {},
   "outputs": [
    {
     "name": "stdout",
     "output_type": "stream",
     "text": [
      "False\n",
      "False\n",
      "False\n"
     ]
    }
   ],
   "source": [
    "Logical Operator\n",
    "2 > 1 greater than\n",
    "4 < 5 less than\n",
    "4 == 2+2 equals to\n",
    "1 >= 0 greater than or equal to\n",
    "2 <= 3 lesser than or equal to\n",
    "0 != 0 with this code, ur asking python, is this not equal to this? and the answer is 'False'\n",
    "1 and 3 p ^ q\n",
    "2 or 6 p V q\n",
    "print('a' > 'b')\n",
    "if u run this code, u see 'a' is greater than 'b', and thats because python uses the ASCII values \n",
    "for words, and 'a' has a bigger value than 'b', so it gets evaluated as greater than 'b'\n",
    "we also have smth called 'not' and that is the ¬p in logic\n",
    "and we have 3 ways to show it\n",
    "not True\n",
    "print(not True)\n",
    "print(not(True))"
   ]
  }
 ],
 "metadata": {
  "kernelspec": {
   "display_name": "Python 3",
   "language": "python",
   "name": "python3"
  },
  "language_info": {
   "codemirror_mode": {
    "name": "ipython",
    "version": 3
   },
   "file_extension": ".py",
   "mimetype": "text/x-python",
   "name": "python",
   "nbconvert_exporter": "python",
   "pygments_lexer": "ipython3",
   "version": "3.8.8"
  }
 },
 "nbformat": 4,
 "nbformat_minor": 5
}
