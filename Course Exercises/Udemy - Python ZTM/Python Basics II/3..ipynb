{
 "cells": [
  {
   "cell_type": "code",
   "execution_count": 2,
   "id": "d90ab03d",
   "metadata": {},
   "outputs": [
    {
     "name": "stdout",
     "output_type": "stream",
     "text": [
      "YAY\n"
     ]
    }
   ],
   "source": [
    "Short Circuiting\n",
    "\"and\" is the P^Q in logic and \"or\" is PVQ in logic\n",
    "is_friend = True\n",
    "is_user = True\n",
    "if either one of our conditions is true, code runs.\n",
    "if is_friend or is_user:\n",
    "    print('YAY')\n",
    "'or' is more performant because it evaluate just one line if its 'True'\n",
    "\n",
    "    "
   ]
  }
 ],
 "metadata": {
  "kernelspec": {
   "display_name": "Python 3",
   "language": "python",
   "name": "python3"
  },
  "language_info": {
   "codemirror_mode": {
    "name": "ipython",
    "version": 3
   },
   "file_extension": ".py",
   "mimetype": "text/x-python",
   "name": "python",
   "nbconvert_exporter": "python",
   "pygments_lexer": "ipython3",
   "version": "3.8.8"
  }
 },
 "nbformat": 4,
 "nbformat_minor": 5
}
