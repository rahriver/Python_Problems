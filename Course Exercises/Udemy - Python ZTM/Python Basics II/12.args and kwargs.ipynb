{
 "cells": [
  {
   "cell_type": "code",
   "execution_count": 2,
   "id": "2e851a43",
   "metadata": {},
   "outputs": [
    {
     "name": "stdout",
     "output_type": "stream",
     "text": [
      "10\n"
     ]
    }
   ],
   "source": [
    "# *args allows us to have multiple arguements\n",
    "\n",
    "def super_func(*args):\n",
    "    return sum(args)\n",
    "print(super_func(1,2,3,4))\n",
    "\n",
    "# **kwargs on the other hand, allows us to have keyword arguements and it gives us a dict of our keywords\n",
    "\n",
    "def super_func(name, *args, **kwargs):\n",
    "    total = 0\n",
    "    for items in kwargs.values():\n",
    "        total += items\n",
    "    return sum(args)\n",
    "print(super_func(1,2,3,4,5, num1=5, num2=10))\n",
    "\n",
    "#Rule: params, *args, default parameters, **kwargs\n",
    "\n"
   ]
  }
 ],
 "metadata": {
  "kernelspec": {
   "display_name": "Python 3",
   "language": "python",
   "name": "python3"
  },
  "language_info": {
   "codemirror_mode": {
    "name": "ipython",
    "version": 3
   },
   "file_extension": ".py",
   "mimetype": "text/x-python",
   "name": "python",
   "nbconvert_exporter": "python",
   "pygments_lexer": "ipython3",
   "version": "3.8.8"
  }
 },
 "nbformat": 4,
 "nbformat_minor": 5
}
