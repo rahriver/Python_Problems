{
 "cells": [
  {
   "cell_type": "code",
   "execution_count": 9,
   "id": "23cd1f36",
   "metadata": {},
   "outputs": [
    {
     "name": "stdout",
     "output_type": "stream",
     "text": [
      "name\n",
      "age\n",
      "cool\n",
      "('name', 'Geralt')\n",
      "('age', 1000)\n",
      "('cool', True)\n",
      "name Geralt\n",
      "age 1000\n",
      "cool True\n",
      "Geralt\n",
      "1000\n",
      "True\n",
      "name\n",
      "age\n",
      "cool\n"
     ]
    }
   ],
   "source": [
    "#iterable can be a list, dict, tuple, set, string\n",
    "#they can be iterated -> one by one check each item in the collection\n",
    "#we loop over the iterable item\n",
    "#u cant iterate 'int'\n",
    "\n",
    "#now here's a dictionary and we want to grab some data from it\n",
    "\n",
    "user = {\n",
    "    'name' : 'Geralt',\n",
    "    'age' : 1000,\n",
    "    'cool' : True\n",
    "}\n",
    "\n",
    "for x in user:\n",
    "    print(x)\n",
    "    \n",
    "#u see in here program gives us the 'key' in the dict, but how can we get the value as well?\n",
    "\n",
    "for x in user.items():\n",
    "    print(x)\n",
    "\n",
    "#it can also be used like this:\n",
    "\n",
    "for x, y in user.items():\n",
    "    print(x, y)\n",
    "\n",
    "#what to do when we just want the value or just the key?\n",
    "\n",
    "for x in user.values():\n",
    "    print(x)\n",
    "    \n",
    "#and now the keys\n",
    "\n",
    "for x in user.keys():\n",
    "    print(x)"
   ]
  }
 ],
 "metadata": {
  "kernelspec": {
   "display_name": "Python 3",
   "language": "python",
   "name": "python3"
  },
  "language_info": {
   "codemirror_mode": {
    "name": "ipython",
    "version": 3
   },
   "file_extension": ".py",
   "mimetype": "text/x-python",
   "name": "python",
   "nbconvert_exporter": "python",
   "pygments_lexer": "ipython3",
   "version": "3.8.8"
  }
 },
 "nbformat": 4,
 "nbformat_minor": 5
}
