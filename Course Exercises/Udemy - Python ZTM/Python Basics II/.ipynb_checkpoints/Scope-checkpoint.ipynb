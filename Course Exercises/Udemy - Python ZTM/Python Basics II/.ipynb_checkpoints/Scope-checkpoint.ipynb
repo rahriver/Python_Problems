{
 "cells": [
  {
   "cell_type": "code",
   "execution_count": 7,
   "id": "6f1a6c1e",
   "metadata": {},
   "outputs": [
    {
     "name": "stdout",
     "output_type": "stream",
     "text": [
      "5\n",
      "1\n",
      "1\n",
      "1\n"
     ]
    }
   ],
   "source": [
    "# Scope = what variables do i have access to?\n",
    "\n",
    "a = 1\n",
    "\n",
    "def confusion():\n",
    "    a = 5\n",
    "    return a\n",
    "print(confusion())\n",
    "print(a)\n",
    "\n",
    "# this one gives us two '1' because we have two rules for scopes :\n",
    "#1 - start with local\n",
    "#2 - parent local\n",
    "#3 - Global\n",
    "#4 - built in python functions\n",
    "\n",
    "# parent in here is the global 'a' that we have above the function\n",
    "\n",
    "a = 1\n",
    "\n",
    "def confusion():\n",
    "    return a\n",
    "\n",
    "print(confusion())\n",
    "print(a)\n",
    "\n"
   ]
  }
 ],
 "metadata": {
  "kernelspec": {
   "display_name": "Python 3",
   "language": "python",
   "name": "python3"
  },
  "language_info": {
   "codemirror_mode": {
    "name": "ipython",
    "version": 3
   },
   "file_extension": ".py",
   "mimetype": "text/x-python",
   "name": "python",
   "nbconvert_exporter": "python",
   "pygments_lexer": "ipython3",
   "version": "3.8.8"
  }
 },
 "nbformat": 4,
 "nbformat_minor": 5
}
