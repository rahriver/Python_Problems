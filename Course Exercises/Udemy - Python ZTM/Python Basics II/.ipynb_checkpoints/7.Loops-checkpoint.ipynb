{
 "cells": [
  {
   "cell_type": "code",
   "execution_count": 7,
   "id": "8b7b2879",
   "metadata": {},
   "outputs": [
    {
     "name": "stdout",
     "output_type": "stream",
     "text": [
      "1 a\n",
      "1 b\n",
      "1 c\n",
      "2 a\n",
      "2 b\n",
      "2 c\n",
      "3 a\n",
      "3 b\n",
      "3 c\n",
      "4 a\n",
      "4 b\n",
      "4 c\n",
      "5 a\n",
      "5 b\n",
      "5 c\n"
     ]
    }
   ],
   "source": [
    "# we can assign our variable, after the 'for' and then we give it our 'set','dict','tuple','list' etc.\n",
    "\n",
    "for item in (1,2,3,4,5):\n",
    "    print(item)\n",
    "    \n",
    "# we alson can have nested loops\n",
    "\n",
    "for item in (1,2,3,4,5):\n",
    "    for x in ['a','b','c']:\n",
    "        print(item, x)\n",
    "\n",
    "# this basically means, for every 'item' in (1,2,3,4,5), get me every 'x' in ['a','b','c']\n"
   ]
  }
 ],
 "metadata": {
  "kernelspec": {
   "display_name": "Python 3",
   "language": "python",
   "name": "python3"
  },
  "language_info": {
   "codemirror_mode": {
    "name": "ipython",
    "version": 3
   },
   "file_extension": ".py",
   "mimetype": "text/x-python",
   "name": "python",
   "nbconvert_exporter": "python",
   "pygments_lexer": "ipython3",
   "version": "3.8.8"
  }
 },
 "nbformat": 4,
 "nbformat_minor": 5
}
