{
 "cells": [
  {
   "cell_type": "code",
   "execution_count": null,
   "id": "cd914337",
   "metadata": {},
   "outputs": [],
   "source": [
    "# in python, we have conditional statements, such as : 'if', 'elif' and 'else'\n",
    "# we use 'if' for our first line and then if we have more conditions, we use 'elif' and the good thing about 'elif'\n",
    "# is that u can use it several times in a program but u can only use 'if' and 'else' just once in every conditional block\n",
    "# 'else' gets run only when our 'elifs' and 'if' are 'False'\n",
    "# there are some indetation in our conditional code blocks and its '4 spaces' or a 'tab' and python intreperter reads that\n",
    "# we have smth called 'Truthy and Falsey', everything in python gets evaluted as 'True' except few things and they're 'False'\n",
    "# such as: None, 0, 0.0, '', [], {}, () and etc.\n",
    "# 'and' gets used when u want several conditions to be 'True' for smth to get printed or function.\n",
    "\n",
    "username = input(\"What's Your Name? \")\n",
    "password = input(\"What's Your Password? \")\n",
    "\n",
    "if username and password:\n",
    "    print(\"You've Signed In !\")\n",
    "else:\n",
    "    print('Either Your Password or Your Username Is Wrong !')\n",
    "age = input(\"How Old Are You?\")\n",
    "\n",
    "if age:\n",
    "    print('Congrats!')\n",
    "else:\n",
    "    print('Your Not Old Enough!')"
   ]
  }
 ],
 "metadata": {
  "kernelspec": {
   "display_name": "Python 3",
   "language": "python",
   "name": "python3"
  },
  "language_info": {
   "codemirror_mode": {
    "name": "ipython",
    "version": 3
   },
   "file_extension": ".py",
   "mimetype": "text/x-python",
   "name": "python",
   "nbconvert_exporter": "python",
   "pygments_lexer": "ipython3",
   "version": "3.8.8"
  }
 },
 "nbformat": 4,
 "nbformat_minor": 5
}
