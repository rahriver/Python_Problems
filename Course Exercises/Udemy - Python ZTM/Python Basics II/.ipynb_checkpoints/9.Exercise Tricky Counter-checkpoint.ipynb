{
 "cells": [
  {
   "cell_type": "code",
   "execution_count": 17,
   "id": "e990167d",
   "metadata": {},
   "outputs": [
    {
     "name": "stdout",
     "output_type": "stream",
     "text": [
      "55.0\n",
      "55\n"
     ]
    }
   ],
   "source": [
    "#so in here we want to make a program using 'for' loops and this is my weird way of doing it:\n",
    "\n",
    "my_list = [1,2,3,4,5,6,7,8,9,10]\n",
    "\n",
    "for x in my_list:\n",
    "    sumup = (my_list[0] + my_list[9])*len(my_list)/2\n",
    "print(sumup)\n",
    "\n",
    "#but the right version of doing this, goes like this:\n",
    "counter = 0\n",
    "for x in my_list:\n",
    "    counter = counter + x\n",
    "#the 'print' is out of the 'for' indentation so it doesnt get looped over and over\n",
    "\n",
    "print(counter)"
   ]
  }
 ],
 "metadata": {
  "kernelspec": {
   "display_name": "Python 3",
   "language": "python",
   "name": "python3"
  },
  "language_info": {
   "codemirror_mode": {
    "name": "ipython",
    "version": 3
   },
   "file_extension": ".py",
   "mimetype": "text/x-python",
   "name": "python",
   "nbconvert_exporter": "python",
   "pygments_lexer": "ipython3",
   "version": "3.8.8"
  }
 },
 "nbformat": 4,
 "nbformat_minor": 5
}
