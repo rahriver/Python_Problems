{
 "cells": [
  {
   "cell_type": "code",
   "execution_count": null,
   "id": "e5ff663d",
   "metadata": {},
   "outputs": [],
   "source": [
    "is_magician = True\n",
    "is_expert = False\n",
    "\n",
    "# check if magician AND expert:\n",
    "if is_magician and is_expert:\n",
    "  print('you are a master magician')\n",
    "\n",
    "# check if magician but not an expert:\n",
    "# we can use 'or' in here but the logic is not complete and its better to use 'and' 'not' in here.\n",
    "elif is_magician and not is_expert:\n",
    "  print('at least youre getting there')\n",
    "\n",
    "# if you're not a magician:\n",
    "# we also can use 'elif' in here\n",
    "else:\n",
    "  print('you need magic powers')"
   ]
  }
 ],
 "metadata": {
  "kernelspec": {
   "display_name": "Python 3",
   "language": "python",
   "name": "python3"
  },
  "language_info": {
   "codemirror_mode": {
    "name": "ipython",
    "version": 3
   },
   "file_extension": ".py",
   "mimetype": "text/x-python",
   "name": "python",
   "nbconvert_exporter": "python",
   "pygments_lexer": "ipython3",
   "version": "3.8.8"
  }
 },
 "nbformat": 4,
 "nbformat_minor": 5
}
