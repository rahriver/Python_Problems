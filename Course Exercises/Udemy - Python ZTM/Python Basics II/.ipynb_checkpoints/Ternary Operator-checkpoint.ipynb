{
 "cells": [
  {
   "cell_type": "code",
   "execution_count": 1,
   "id": "cfbc083a",
   "metadata": {},
   "outputs": [
    {
     "name": "stdout",
     "output_type": "stream",
     "text": [
      "not allowed to message\n"
     ]
    }
   ],
   "source": [
    "#Ternary Operator\n",
    "#condition_if_true if condition else codition_if_false\n",
    "#is the facebook user my friend\n",
    "is_friend = False\n",
    "#can he message me\n",
    "can_message = \"message allowed\" if is_friend else \"not allowed to message\"\n",
    "#its basically like this: message is allowed if is_friend is true, but otherwise(else),\n",
    "#he's not allowed to message\n",
    "print(can_message)"
   ]
  }
 ],
 "metadata": {
  "kernelspec": {
   "display_name": "Python 3",
   "language": "python",
   "name": "python3"
  },
  "language_info": {
   "codemirror_mode": {
    "name": "ipython",
    "version": 3
   },
   "file_extension": ".py",
   "mimetype": "text/x-python",
   "name": "python",
   "nbconvert_exporter": "python",
   "pygments_lexer": "ipython3",
   "version": "3.8.8"
  }
 },
 "nbformat": 4,
 "nbformat_minor": 5
}
